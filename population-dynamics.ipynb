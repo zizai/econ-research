{
 "cells": [
  {
   "cell_type": "code",
   "execution_count": null,
   "id": "initial_id",
   "metadata": {
    "collapsed": true
   },
   "outputs": [],
   "source": [
    "import matplotlib.pyplot as plt\n",
    "import numpy as np\n",
    "import pandas as pd\n",
    "import seaborn as sns\n",
    "\n"
   ]
  },
  {
   "cell_type": "code",
   "outputs": [],
   "source": [
    "class Economy:\n",
    "    def __init__(self, productivity0, labor0, capital0, a, b, CL, CK, DL, DK, rho):\n",
    "        self.productivity = productivity0\n",
    "        self.labor = labor0\n",
    "        self.capital = capital0\n",
    "        self.a = a\n",
    "        self.b = b\n",
    "        self.CL = CL\n",
    "        self.CK = CK\n",
    "        self.DL = DL\n",
    "        self.DK = DK\n",
    "        self.rho = np.ones_like(labor0) * rho\n",
    "        \n",
    "        self.steps = 0\n",
    "        self.dt = 0.001\n",
    "        \n",
    "        self.labor_hist = []\n",
    "        self.capital_hist = []\n",
    "        self.production_hist = []\n",
    "        \n",
    "    def update(self):\n",
    "        capacity = self.production * 10\n",
    "        \n",
    "        # self.labor = self.labor + self.dt * self.a * self.labor * (1 - self.labor / capacity) - self.dt * self.labor * np.dot(self.CL, self.capital)\n",
    "        # self.capital = self.capital - self.dt * self.b * self.capital + self.dt * self.capital * np.dot(self.CK, self.labor) * (1 - self.capital / capacity)\n",
    "        \n",
    "        labor = np.copy(self.labor)\n",
    "        labor += self.dt * self.a * self.labor * (1 - self.labor / capacity) - self.dt * self.labor * np.dot(self.CL, self.capital)\n",
    "        labor -= self.dt * self.labor * np.dot(self.DL, self.labor)\n",
    "        \n",
    "        capital = np.copy(self.capital)\n",
    "        capital += self.dt * self.capital * np.dot(self.CK, self.labor) * (1 - self.capital / capacity) - self.dt * self.b * self.capital\n",
    "        capital -= self.dt * self.capital * np.dot(self.DK, self.capital) \n",
    "        \n",
    "        self.labor = labor\n",
    "        self.capital = capital\n",
    "        self.productivity += self.dt * self.productivity * 0.02\n",
    "        self.steps += 1\n",
    "        self.labor_hist.append(self.labor)\n",
    "        self.capital_hist.append(self.capital)\n",
    "        self.production_hist.append(self.production)\n",
    "    \n",
    "    @property\n",
    "    def production(self):\n",
    "        return self.productivity * self.labor ** self.rho * self.capital ** (1 - self.rho)"
   ],
   "metadata": {
    "collapsed": false
   },
   "id": "629c6474466d634d",
   "execution_count": null
  },
  {
   "cell_type": "code",
   "outputs": [],
   "source": [
    "N = 100\n",
    "T = 50000\n",
    "productivity0 = np.linspace(1, 3, N)\n",
    "labor0 = np.ones(N) * 1\n",
    "capital0 = np.ones(N) * 1\n",
    "a = np.ones(N) * 1\n",
    "b = np.ones(N) * 1\n",
    "CL = np.diag(np.ones(N))\n",
    "CK = CL\n",
    "DL = np.zeros((N, N))\n",
    "DK = np.zeros((N, N))\n",
    "# DL = np.diag(np.ones(N)) / 100\n",
    "# DK = np.diag(np.ones(N)) / 100\n",
    "rho = 0.5\n",
    "\n",
    "econ = Economy(productivity0, labor0, capital0, a, b, CL, CK, DL, DK, rho)\n",
    "total_labor_results = []\n",
    "total_capital_results = []\n",
    "total_production_results = []\n",
    "\n",
    "for i in range(T):\n",
    "    econ.update()\n",
    "    total_labor_results.append(np.sum(econ.labor))\n",
    "    total_capital_results.append(np.sum(econ.capital))\n",
    "    total_production_results.append(np.sum(econ.production))\n",
    "\n",
    "production_results = np.concatenate(econ.production_hist)\n",
    "data = pd.DataFrame(production_results, columns=['production'])\n",
    "sector = [i for i in range(N)] * T\n",
    "data['sector'] = sector\n",
    "steps = []\n",
    "for t in range(T):\n",
    "    steps += [t] * N\n",
    "data['steps'] = steps\n",
    "sns.set_style('whitegrid')\n",
    "sns.lineplot(x='steps', y='production', hue='sector', data=data)"
   ],
   "metadata": {
    "collapsed": false
   },
   "id": "dd96e187006c800a",
   "execution_count": null
  },
  {
   "cell_type": "code",
   "outputs": [],
   "source": [
    "labor_results = np.concatenate(econ.labor_hist)\n",
    "data = pd.DataFrame(labor_results, columns=['labor'])\n",
    "sector = [i for i in range(N)] * T\n",
    "data['sector'] = sector\n",
    "steps = []\n",
    "for t in range(T):\n",
    "    steps += [t] * N\n",
    "data['steps'] = steps\n",
    "sns.set_style('whitegrid')\n",
    "sns.lineplot(x='steps', y='labor', hue='sector', data=data)"
   ],
   "metadata": {
    "collapsed": false
   },
   "id": "6c2d0877ba172314",
   "execution_count": null
  },
  {
   "cell_type": "code",
   "outputs": [],
   "source": [
    "capital_results = np.concatenate(econ.capital_hist)\n",
    "data = pd.DataFrame(capital_results, columns=['capital'])\n",
    "sector = [i for i in range(N)] * T\n",
    "data['sector'] = sector\n",
    "steps = []\n",
    "for t in range(T):\n",
    "    steps += [t] * N\n",
    "data['steps'] = steps\n",
    "sns.set_style('whitegrid')\n",
    "sns.lineplot(x='steps', y='capital', hue='sector', data=data)"
   ],
   "metadata": {
    "collapsed": false
   },
   "id": "f15eac614feda377",
   "execution_count": null
  },
  {
   "cell_type": "code",
   "outputs": [],
   "source": [
    "data = np.concatenate([total_labor_results, total_capital_results, total_production_results])\n",
    "data = pd.DataFrame(data, columns=['quantity'])\n",
    "kind = ['labor'] * T + ['capital'] * T + ['production'] * T\n",
    "data['kind'] = kind\n",
    "steps = [t for t in range(T)] + [t for t in range(T)] + [t for t in range(T)]\n",
    "data['steps'] = steps\n",
    "\n",
    "sns.set_style('whitegrid')\n",
    "sns.lineplot(x='steps', y='quantity', hue='kind', data=data)"
   ],
   "metadata": {
    "collapsed": false
   },
   "id": "c089e359008edf81",
   "execution_count": null
  },
  {
   "cell_type": "code",
   "outputs": [],
   "source": [
    "# T = 100000\n",
    "# CL = np.tril(np.ones(N))\n",
    "# CL /= np.sum(CL, axis=1, keepdims=True)\n",
    "productivity0 = np.ones(N) * 2.\n",
    "CL = np.random.uniform(size=(N, N))\n",
    "CL = np.where(CL > 0.8, 1., 0.)\n",
    "# CL /= np.sqrt(np.sum(CL))\n",
    "CL /= np.sum(CL, axis=1, keepdims=True)\n",
    "CK = CL.T\n",
    "# CK = np.random.uniform(size=(N, N))\n",
    "# CK = np.where(CK > 0.8, CK, 0.) / 20\n",
    "\n",
    "# DL = np.diag(np.ones(N)) + np.random.normal(size=(N, N)) / 100\n",
    "# DK = np.diag(np.ones(N)) + np.random.normal(size=(N, N)) / 100\n",
    "# DL = np.random.uniform(size=(N, N))\n",
    "# DL = np.where(DL > 0.8, 1., 0.) / 40\n",
    "# DL = DL / np.sum(DL, axis=1, keepdims=True)\n",
    "# DK = DL\n",
    "# DK = np.random.uniform(size=(N, N))\n",
    "# DK = np.where(DK > 0.8, 1., 0.) / 40\n",
    "# DK = DK / np.sum(DK, axis=1, keepdims=True)\n",
    "\n",
    "econ = Economy(productivity0, labor0, capital0, a, b, CL, CK, DL, DK, rho)\n",
    "total_labor_results = []\n",
    "total_capital_results = []\n",
    "total_production_results = []\n",
    "\n",
    "for i in range(T):\n",
    "    econ.update()\n",
    "    total_labor_results.append(np.sum(econ.labor))\n",
    "    total_capital_results.append(np.sum(econ.capital))\n",
    "    total_production_results.append(np.sum(econ.production))\n",
    "\n",
    "production_results = np.concatenate(econ.production_hist)\n",
    "data = pd.DataFrame(production_results, columns=['production'])\n",
    "sector = [i for i in range(N)] * T\n",
    "data['sector'] = sector\n",
    "steps = []\n",
    "for t in range(T):\n",
    "    steps += [t] * N\n",
    "data['steps'] = steps\n",
    "sns.set_style('whitegrid')\n",
    "sns.lineplot(x='steps', y='production', hue='sector', data=data)\n"
   ],
   "metadata": {
    "collapsed": false
   },
   "id": "6150113b34fc8b78",
   "execution_count": null
  },
  {
   "cell_type": "code",
   "outputs": [],
   "source": [
    "labor_results = np.concatenate(econ.labor_hist)\n",
    "data = pd.DataFrame(labor_results, columns=['labor'])\n",
    "data['sector'] = sector\n",
    "data['steps'] = steps\n",
    "sns.set_style('whitegrid')\n",
    "sns.lineplot(x='steps', y='labor', hue='sector', data=data)\n"
   ],
   "metadata": {
    "collapsed": false
   },
   "id": "c3b3a28d0c29e299",
   "execution_count": null
  },
  {
   "cell_type": "code",
   "outputs": [],
   "source": [
    "capital_results = np.concatenate(econ.capital_hist)\n",
    "data = pd.DataFrame(capital_results, columns=['capital'])\n",
    "data['sector'] = sector\n",
    "data['steps'] = steps\n",
    "sns.set_style('whitegrid')\n",
    "sns.lineplot(x='steps', y='capital', hue='sector', data=data)\n"
   ],
   "metadata": {
    "collapsed": false
   },
   "id": "902258fa8eb29112",
   "execution_count": null
  },
  {
   "cell_type": "code",
   "outputs": [],
   "source": [
    "data = np.concatenate([total_labor_results, total_capital_results, total_production_results])\n",
    "data = pd.DataFrame(data, columns=['quantity'])\n",
    "kind = ['labor'] * T + ['capital'] * T + ['production'] * T\n",
    "data['kind'] = kind\n",
    "steps = [t for t in range(T)] + [t for t in range(T)] + [t for t in range(T)]\n",
    "data['steps'] = steps\n",
    "\n",
    "sns.set_style('whitegrid')\n",
    "sns.lineplot(x='steps', y='quantity', hue='kind', data=data)"
   ],
   "metadata": {
    "collapsed": false
   },
   "id": "9de0f76612f6e281",
   "execution_count": null
  },
  {
   "cell_type": "code",
   "outputs": [],
   "source": [
    "T = 50000\n",
    "productivity0 = np.ones(N) * 2.\n",
    "# CL = np.random.uniform(size=(N, N))\n",
    "# CL = np.where(CL > 0.8, 1., 0.)\n",
    "# CL /= np.sqrt(np.sum(CL))\n",
    "# CL /= np.sum(CL, axis=1, keepdims=True)\n",
    "# CK = CL.T\n",
    "# CK = np.random.uniform(size=(N, N))\n",
    "# CK = np.where(CK > 0.8, CK, 0.) / 20\n",
    "\n",
    "# DL = np.diag(np.ones(N)) + np.random.normal(size=(N, N)) / 100\n",
    "# DK = np.diag(np.ones(N)) + np.random.normal(size=(N, N)) / 100\n",
    "DL = np.random.uniform(size=(N, N))\n",
    "DL = np.where(DL > 0.8, 1., 0.)\n",
    "DL = DL / np.sum(DL, axis=1, keepdims=True)\n",
    "# DK = DL\n",
    "DK = np.random.uniform(size=(N, N))\n",
    "DK = np.where(DK > 0.8, 1., 0.)\n",
    "DK = DK / np.sum(DK, axis=1, keepdims=True)\n",
    "\n",
    "econ = Economy(productivity0, labor0, capital0, a, b, CL, CK, DL, DK, rho)\n",
    "total_labor_results = []\n",
    "total_capital_results = []\n",
    "total_production_results = []\n",
    "\n",
    "for i in range(T):\n",
    "    econ.update()\n",
    "    total_labor_results.append(np.sum(econ.labor))\n",
    "    total_capital_results.append(np.sum(econ.capital))\n",
    "    total_production_results.append(np.sum(econ.production))\n",
    "\n",
    "sector = [i for i in range(N)] * T\n",
    "steps = []\n",
    "for t in range(T):\n",
    "    steps += [t] * N\n",
    "\n",
    "production_results = np.concatenate(econ.production_hist)\n",
    "data = pd.DataFrame(production_results, columns=['production'])\n",
    "data['sector'] = sector\n",
    "data['steps'] = steps\n",
    "sns.set_style('whitegrid')\n",
    "sns.lineplot(x='steps', y='production', hue='sector', data=data)\n"
   ],
   "metadata": {
    "collapsed": false
   },
   "id": "4fa29eb1b198dc01",
   "execution_count": null
  },
  {
   "cell_type": "code",
   "outputs": [],
   "source": [
    "labor_results = np.concatenate(econ.labor_hist)\n",
    "data = pd.DataFrame(labor_results, columns=['labor'])\n",
    "data['sector'] = sector\n",
    "data['steps'] = steps\n",
    "sns.set_style('whitegrid')\n",
    "sns.lineplot(x='steps', y='labor', hue='sector', data=data)\n"
   ],
   "metadata": {
    "collapsed": false
   },
   "id": "ab5a5be395fa1521",
   "execution_count": null
  },
  {
   "cell_type": "code",
   "outputs": [],
   "source": [
    "capital_results = np.concatenate(econ.capital_hist)\n",
    "data = pd.DataFrame(capital_results, columns=['capital'])\n",
    "data['sector'] = sector\n",
    "data['steps'] = steps\n",
    "sns.set_style('whitegrid')\n",
    "sns.lineplot(x='steps', y='capital', hue='sector', data=data)"
   ],
   "metadata": {
    "collapsed": false
   },
   "id": "5e80b7b8b63824d2",
   "execution_count": null
  },
  {
   "cell_type": "code",
   "outputs": [],
   "source": [
    "data = np.concatenate([total_labor_results, total_capital_results, total_production_results])\n",
    "data = pd.DataFrame(data, columns=['quantity'])\n",
    "kind = ['labor'] * T + ['capital'] * T + ['production'] * T\n",
    "data['kind'] = kind\n",
    "steps = [t for t in range(T)] + [t for t in range(T)] + [t for t in range(T)]\n",
    "data['steps'] = steps\n",
    "\n",
    "sns.set_style('whitegrid')\n",
    "sns.lineplot(x='steps', y='quantity', hue='kind', data=data)"
   ],
   "metadata": {
    "collapsed": false
   },
   "id": "669fa68c9812ab72",
   "execution_count": null
  },
  {
   "cell_type": "code",
   "outputs": [],
   "source": [],
   "metadata": {
    "collapsed": false
   },
   "id": "a41787be04c189ec",
   "execution_count": null
  }
 ],
 "metadata": {
  "kernelspec": {
   "display_name": "Python 3",
   "language": "python",
   "name": "python3"
  },
  "language_info": {
   "codemirror_mode": {
    "name": "ipython",
    "version": 2
   },
   "file_extension": ".py",
   "mimetype": "text/x-python",
   "name": "python",
   "nbconvert_exporter": "python",
   "pygments_lexer": "ipython2",
   "version": "2.7.6"
  }
 },
 "nbformat": 4,
 "nbformat_minor": 5
}
