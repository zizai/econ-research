{
 "cells": [
  {
   "cell_type": "code",
   "execution_count": null,
   "id": "initial_id",
   "metadata": {
    "collapsed": true
   },
   "outputs": [],
   "source": [
    "import matplotlib.pyplot as plt\n",
    "import numpy as np\n",
    "import pandas as pd\n",
    "import seaborn as sns\n",
    "\n"
   ]
  },
  {
   "cell_type": "code",
   "outputs": [],
   "source": [
    "class Economy:\n",
    "    def __init__(self, productivity0, labor0, capital0, a, b, CL, CK, DL, DK, rho):\n",
    "        self.productivity = productivity0\n",
    "        self.labor = labor0\n",
    "        self.capital = capital0\n",
    "        self.a = a\n",
    "        self.b = b\n",
    "        self.CL = CL\n",
    "        self.CK = CK\n",
    "        self.DL = DL\n",
    "        self.DK = DK\n",
    "        self.rho = np.ones_like(labor0) * rho\n",
    "        \n",
    "        self.steps = 0\n",
    "        self.dt = 0.001\n",
    "        \n",
    "    def update(self):\n",
    "        self.labor = self.labor + self.dt * self.a * self.labor - self.dt * self.labor * np.dot(self.CL, self.capital)\n",
    "        self.capital = self.capital - self.dt * self.b * self.capital + self.dt * self.capital * np.dot(self.CK, self.labor)\n",
    "        # self.labor = self.labor + self.dt * np.dot(self.DL, self.labor) - self.dt * self.labor * np.dot(self.CL, self.capital)\n",
    "        # self.capital = self.capital - self.dt * np.dot(self.DK, self.capital) + self.dt * self.capital * np.dot(self.CK, self.labor)\n",
    "        self.steps += 1\n",
    "    \n",
    "    @property\n",
    "    def production(self):\n",
    "        return self.productivity * self.labor ** self.rho * self.capital ** (1 - self.rho)"
   ],
   "metadata": {
    "collapsed": false
   },
   "id": "629c6474466d634d",
   "execution_count": null
  },
  {
   "cell_type": "code",
   "outputs": [],
   "source": [
    "N = 100\n",
    "T = 10000\n",
    "productivity0 = np.random.uniform(size=N) * 1\n",
    "labor0 = np.ones(N) * 1\n",
    "capital0 = np.ones(N) * 1\n",
    "a = np.ones(N) * 1\n",
    "b = np.ones(N) * 2\n",
    "CL = np.random.uniform(size=(N, N))\n",
    "CL = np.where(CL > 0.8, CL, 0.) / 200\n",
    "CK = CL / 2\n",
    "# CK = np.random.uniform(size=(N, N))\n",
    "# CK = np.where(CK > 0.8, CK, 0.) / 10\n",
    "DL = np.random.uniform(size=(N, N))\n",
    "DL = np.where(DL > 0.8, DL, 0.)\n",
    "DL = DL / np.sum(DL, axis=0, keepdims=True)\n",
    "DK = np.random.uniform(size=(N, N))\n",
    "DK = np.where(DK > 0.8, DK, 0.)\n",
    "DK = DK / np.sum(DK, axis=0, keepdims=True)\n",
    "rho = 0.5\n",
    "\n",
    "econ = Economy(productivity0, labor0, capital0, a, b, CL, CK, DL, DK, rho)\n",
    "labor_results = []\n",
    "capital_results = []\n",
    "production_results = []\n",
    "total_labor_results = []\n",
    "total_capital_results = []\n",
    "total_production_results = []\n",
    "\n",
    "for i in range(T):\n",
    "    econ.update()\n",
    "    labor_results.append(econ.labor)\n",
    "    capital_results.append(econ.capital)\n",
    "    production_results.append(econ.production)\n",
    "    total_labor_results.append(np.sum(econ.labor))\n",
    "    total_capital_results.append(np.sum(econ.capital))\n",
    "    total_production_results.append(np.sum(econ.production))\n",
    "\n",
    "production_results = np.concatenate(production_results)\n",
    "data = pd.DataFrame(production_results, columns=['production'])\n",
    "sector = [i for i in range(N)] * T\n",
    "data['sector'] = sector\n",
    "steps = []\n",
    "for t in range(T):\n",
    "    steps += [t] * N\n",
    "data['steps'] = steps\n",
    "sns.set_style('whitegrid')\n",
    "sns.lineplot(x='steps', y='production', hue='sector', data=data)"
   ],
   "metadata": {
    "collapsed": false
   },
   "id": "dd96e187006c800a",
   "execution_count": null
  },
  {
   "cell_type": "code",
   "outputs": [],
   "source": [
    "labor_results = np.concatenate(labor_results)\n",
    "data = pd.DataFrame(labor_results, columns=['labor'])\n",
    "sector = [i for i in range(N)] * T\n",
    "data['sector'] = sector\n",
    "steps = []\n",
    "for t in range(T):\n",
    "    steps += [t] * N\n",
    "data['steps'] = steps\n",
    "sns.set_style('whitegrid')\n",
    "sns.lineplot(x='steps', y='labor', hue='sector', data=data)"
   ],
   "metadata": {
    "collapsed": false
   },
   "id": "6c2d0877ba172314",
   "execution_count": null
  },
  {
   "cell_type": "code",
   "outputs": [],
   "source": [
    "capital_results = np.concatenate(capital_results)\n",
    "data = pd.DataFrame(capital_results, columns=['capital'])\n",
    "sector = [i for i in range(N)] * T\n",
    "data['sector'] = sector\n",
    "steps = []\n",
    "for t in range(T):\n",
    "    steps += [t] * N\n",
    "data['steps'] = steps\n",
    "sns.set_style('whitegrid')\n",
    "sns.lineplot(x='steps', y='capital', hue='sector', data=data)"
   ],
   "metadata": {
    "collapsed": false
   },
   "id": "f15eac614feda377",
   "execution_count": null
  },
  {
   "cell_type": "code",
   "outputs": [],
   "source": [
    "data = np.concatenate([total_labor_results, total_capital_results, total_production_results])\n",
    "data = pd.DataFrame(data, columns=['quantity'])\n",
    "kind = ['labor'] * T + ['capital'] * T + ['production'] * T\n",
    "data['kind'] = kind\n",
    "steps = [t for t in range(T)] + [t for t in range(T)] + [t for t in range(T)]\n",
    "data['steps'] = steps\n",
    "\n",
    "sns.set_style('whitegrid')\n",
    "sns.lineplot(x='steps', y='quantity', hue='kind', data=data)"
   ],
   "metadata": {
    "collapsed": false
   },
   "id": "c089e359008edf81",
   "execution_count": null
  },
  {
   "cell_type": "code",
   "outputs": [],
   "source": [
    "np.dot(DL, np.ones(N))\n"
   ],
   "metadata": {
    "collapsed": false
   },
   "id": "6150113b34fc8b78",
   "execution_count": null
  },
  {
   "cell_type": "code",
   "outputs": [],
   "source": [
    "np.sum(DL, axis=0)"
   ],
   "metadata": {
    "collapsed": false
   },
   "id": "c3b3a28d0c29e299",
   "execution_count": null
  },
  {
   "cell_type": "code",
   "outputs": [],
   "source": [],
   "metadata": {
    "collapsed": false
   },
   "id": "902258fa8eb29112",
   "execution_count": null
  }
 ],
 "metadata": {
  "kernelspec": {
   "display_name": "Python 3",
   "language": "python",
   "name": "python3"
  },
  "language_info": {
   "codemirror_mode": {
    "name": "ipython",
    "version": 2
   },
   "file_extension": ".py",
   "mimetype": "text/x-python",
   "name": "python",
   "nbconvert_exporter": "python",
   "pygments_lexer": "ipython2",
   "version": "2.7.6"
  }
 },
 "nbformat": 4,
 "nbformat_minor": 5
}
